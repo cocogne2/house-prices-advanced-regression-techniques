{
 "cells": [
  {
   "cell_type": "code",
   "execution_count": 1,
   "metadata": {},
   "outputs": [],
   "source": [
    "import pandas as pd\n",
    "import os\n",
    "import numpy as np\n",
    "import matplotlib.pyplot as plt\n",
    "import seaborn as sns"
   ]
  },
  {
   "cell_type": "code",
   "execution_count": 2,
   "metadata": {},
   "outputs": [],
   "source": [
    "path_to_data = os.path.join('c:\\\\', 'openclassrooms', 'projet 8','house-prices-advanced-regression-techniques')\n",
    "data_fname = 'data_train.csv'\n",
    "data_train = pd.read_csv(os.path.join(path_to_data, data_fname), sep=\",\", index_col = 0)\n",
    "data_fname = 'data_test.csv'\n",
    "data_test = pd.read_csv(os.path.join(path_to_data, data_fname), sep=\",\", index_col = 0)\n",
    "data_fname = 'X_dummy_train.csv'\n",
    "X_dummy_train = pd.read_csv(os.path.join(path_to_data, data_fname), sep=\",\", index_col = 0)\n",
    "X_dummy_train=X_dummy_train.to_numpy()\n",
    "data_fname = 'X_dummy_test.csv'\n",
    "X_dummy_test = pd.read_csv(os.path.join(path_to_data, data_fname), sep=\",\", index_col = 0)\n",
    "X_dummy_test=X_dummy_test.to_numpy()"
   ]
  },
  {
   "cell_type": "code",
   "execution_count": 3,
   "metadata": {},
   "outputs": [
    {
     "data": {
      "text/html": [
       "<div>\n",
       "<style scoped>\n",
       "    .dataframe tbody tr th:only-of-type {\n",
       "        vertical-align: middle;\n",
       "    }\n",
       "\n",
       "    .dataframe tbody tr th {\n",
       "        vertical-align: top;\n",
       "    }\n",
       "\n",
       "    .dataframe thead th {\n",
       "        text-align: right;\n",
       "    }\n",
       "</style>\n",
       "<table border=\"1\" class=\"dataframe\">\n",
       "  <thead>\n",
       "    <tr style=\"text-align: right;\">\n",
       "      <th></th>\n",
       "      <th>SalePrice</th>\n",
       "      <th>LotFrontage</th>\n",
       "      <th>LotArea</th>\n",
       "      <th>MasVnrArea</th>\n",
       "      <th>GarageArea</th>\n",
       "      <th>WoodDeckSF</th>\n",
       "      <th>TotalPorchSF</th>\n",
       "      <th>TotalSF</th>\n",
       "      <th>AgeRemodAdd</th>\n",
       "      <th>TotalHomeQuality</th>\n",
       "      <th>...</th>\n",
       "      <th>Functional</th>\n",
       "      <th>GarageType</th>\n",
       "      <th>GarageFinish</th>\n",
       "      <th>PavedDrive</th>\n",
       "      <th>Fence</th>\n",
       "      <th>MiscFeature</th>\n",
       "      <th>MoSold</th>\n",
       "      <th>YrSold</th>\n",
       "      <th>SaleType</th>\n",
       "      <th>SaleCondition</th>\n",
       "    </tr>\n",
       "  </thead>\n",
       "  <tbody>\n",
       "    <tr>\n",
       "      <th>1460</th>\n",
       "      <td>NaN</td>\n",
       "      <td>4.394449</td>\n",
       "      <td>9.360741</td>\n",
       "      <td>0.000000</td>\n",
       "      <td>6.594413</td>\n",
       "      <td>4.948760</td>\n",
       "      <td>4.795791</td>\n",
       "      <td>7.483807</td>\n",
       "      <td>50</td>\n",
       "      <td>11</td>\n",
       "      <td>...</td>\n",
       "      <td>6</td>\n",
       "      <td>1</td>\n",
       "      <td>3</td>\n",
       "      <td>2</td>\n",
       "      <td>2</td>\n",
       "      <td>1</td>\n",
       "      <td>8</td>\n",
       "      <td>4</td>\n",
       "      <td>8</td>\n",
       "      <td>4</td>\n",
       "    </tr>\n",
       "    <tr>\n",
       "      <th>1461</th>\n",
       "      <td>NaN</td>\n",
       "      <td>4.406719</td>\n",
       "      <td>9.565775</td>\n",
       "      <td>4.691348</td>\n",
       "      <td>5.746203</td>\n",
       "      <td>5.976351</td>\n",
       "      <td>3.610918</td>\n",
       "      <td>7.885705</td>\n",
       "      <td>53</td>\n",
       "      <td>12</td>\n",
       "      <td>...</td>\n",
       "      <td>6</td>\n",
       "      <td>1</td>\n",
       "      <td>3</td>\n",
       "      <td>2</td>\n",
       "      <td>4</td>\n",
       "      <td>0</td>\n",
       "      <td>8</td>\n",
       "      <td>4</td>\n",
       "      <td>8</td>\n",
       "      <td>4</td>\n",
       "    </tr>\n",
       "    <tr>\n",
       "      <th>1462</th>\n",
       "      <td>NaN</td>\n",
       "      <td>4.317488</td>\n",
       "      <td>9.534668</td>\n",
       "      <td>0.000000</td>\n",
       "      <td>6.180017</td>\n",
       "      <td>5.361292</td>\n",
       "      <td>3.555348</td>\n",
       "      <td>7.846981</td>\n",
       "      <td>13</td>\n",
       "      <td>10</td>\n",
       "      <td>...</td>\n",
       "      <td>6</td>\n",
       "      <td>1</td>\n",
       "      <td>0</td>\n",
       "      <td>2</td>\n",
       "      <td>2</td>\n",
       "      <td>1</td>\n",
       "      <td>5</td>\n",
       "      <td>4</td>\n",
       "      <td>8</td>\n",
       "      <td>4</td>\n",
       "    </tr>\n",
       "    <tr>\n",
       "      <th>1463</th>\n",
       "      <td>NaN</td>\n",
       "      <td>4.369448</td>\n",
       "      <td>9.208238</td>\n",
       "      <td>3.044522</td>\n",
       "      <td>6.154858</td>\n",
       "      <td>5.888878</td>\n",
       "      <td>3.610918</td>\n",
       "      <td>7.836370</td>\n",
       "      <td>13</td>\n",
       "      <td>12</td>\n",
       "      <td>...</td>\n",
       "      <td>6</td>\n",
       "      <td>1</td>\n",
       "      <td>0</td>\n",
       "      <td>2</td>\n",
       "      <td>4</td>\n",
       "      <td>1</td>\n",
       "      <td>8</td>\n",
       "      <td>4</td>\n",
       "      <td>8</td>\n",
       "      <td>4</td>\n",
       "    </tr>\n",
       "    <tr>\n",
       "      <th>1464</th>\n",
       "      <td>NaN</td>\n",
       "      <td>3.784190</td>\n",
       "      <td>8.518392</td>\n",
       "      <td>0.000000</td>\n",
       "      <td>6.228511</td>\n",
       "      <td>0.000000</td>\n",
       "      <td>5.424950</td>\n",
       "      <td>7.848153</td>\n",
       "      <td>19</td>\n",
       "      <td>13</td>\n",
       "      <td>...</td>\n",
       "      <td>6</td>\n",
       "      <td>1</td>\n",
       "      <td>2</td>\n",
       "      <td>2</td>\n",
       "      <td>4</td>\n",
       "      <td>1</td>\n",
       "      <td>0</td>\n",
       "      <td>4</td>\n",
       "      <td>8</td>\n",
       "      <td>4</td>\n",
       "    </tr>\n",
       "    <tr>\n",
       "      <th>...</th>\n",
       "      <td>...</td>\n",
       "      <td>...</td>\n",
       "      <td>...</td>\n",
       "      <td>...</td>\n",
       "      <td>...</td>\n",
       "      <td>...</td>\n",
       "      <td>...</td>\n",
       "      <td>...</td>\n",
       "      <td>...</td>\n",
       "      <td>...</td>\n",
       "      <td>...</td>\n",
       "      <td>...</td>\n",
       "      <td>...</td>\n",
       "      <td>...</td>\n",
       "      <td>...</td>\n",
       "      <td>...</td>\n",
       "      <td>...</td>\n",
       "      <td>...</td>\n",
       "      <td>...</td>\n",
       "      <td>...</td>\n",
       "      <td>...</td>\n",
       "    </tr>\n",
       "    <tr>\n",
       "      <th>2914</th>\n",
       "      <td>NaN</td>\n",
       "      <td>3.091042</td>\n",
       "      <td>7.568896</td>\n",
       "      <td>0.000000</td>\n",
       "      <td>0.000000</td>\n",
       "      <td>0.000000</td>\n",
       "      <td>0.000000</td>\n",
       "      <td>7.401842</td>\n",
       "      <td>37</td>\n",
       "      <td>11</td>\n",
       "      <td>...</td>\n",
       "      <td>6</td>\n",
       "      <td>6</td>\n",
       "      <td>1</td>\n",
       "      <td>2</td>\n",
       "      <td>4</td>\n",
       "      <td>1</td>\n",
       "      <td>8</td>\n",
       "      <td>0</td>\n",
       "      <td>8</td>\n",
       "      <td>4</td>\n",
       "    </tr>\n",
       "    <tr>\n",
       "      <th>2915</th>\n",
       "      <td>NaN</td>\n",
       "      <td>3.091042</td>\n",
       "      <td>7.546974</td>\n",
       "      <td>0.000000</td>\n",
       "      <td>5.659482</td>\n",
       "      <td>0.000000</td>\n",
       "      <td>3.218876</td>\n",
       "      <td>7.401842</td>\n",
       "      <td>37</td>\n",
       "      <td>9</td>\n",
       "      <td>...</td>\n",
       "      <td>6</td>\n",
       "      <td>4</td>\n",
       "      <td>3</td>\n",
       "      <td>2</td>\n",
       "      <td>4</td>\n",
       "      <td>1</td>\n",
       "      <td>6</td>\n",
       "      <td>0</td>\n",
       "      <td>8</td>\n",
       "      <td>0</td>\n",
       "    </tr>\n",
       "    <tr>\n",
       "      <th>2916</th>\n",
       "      <td>NaN</td>\n",
       "      <td>5.081404</td>\n",
       "      <td>9.903538</td>\n",
       "      <td>0.000000</td>\n",
       "      <td>6.357842</td>\n",
       "      <td>6.163315</td>\n",
       "      <td>0.000000</td>\n",
       "      <td>7.803435</td>\n",
       "      <td>11</td>\n",
       "      <td>12</td>\n",
       "      <td>...</td>\n",
       "      <td>6</td>\n",
       "      <td>5</td>\n",
       "      <td>3</td>\n",
       "      <td>2</td>\n",
       "      <td>4</td>\n",
       "      <td>1</td>\n",
       "      <td>11</td>\n",
       "      <td>0</td>\n",
       "      <td>8</td>\n",
       "      <td>0</td>\n",
       "    </tr>\n",
       "    <tr>\n",
       "      <th>2917</th>\n",
       "      <td>NaN</td>\n",
       "      <td>4.143135</td>\n",
       "      <td>9.253591</td>\n",
       "      <td>0.000000</td>\n",
       "      <td>0.000000</td>\n",
       "      <td>4.394449</td>\n",
       "      <td>3.496508</td>\n",
       "      <td>7.540622</td>\n",
       "      <td>15</td>\n",
       "      <td>10</td>\n",
       "      <td>...</td>\n",
       "      <td>6</td>\n",
       "      <td>6</td>\n",
       "      <td>1</td>\n",
       "      <td>2</td>\n",
       "      <td>2</td>\n",
       "      <td>3</td>\n",
       "      <td>9</td>\n",
       "      <td>0</td>\n",
       "      <td>8</td>\n",
       "      <td>4</td>\n",
       "    </tr>\n",
       "    <tr>\n",
       "      <th>2918</th>\n",
       "      <td>NaN</td>\n",
       "      <td>4.317488</td>\n",
       "      <td>9.172431</td>\n",
       "      <td>4.553877</td>\n",
       "      <td>6.478510</td>\n",
       "      <td>5.252273</td>\n",
       "      <td>3.891820</td>\n",
       "      <td>8.005367</td>\n",
       "      <td>13</td>\n",
       "      <td>12</td>\n",
       "      <td>...</td>\n",
       "      <td>6</td>\n",
       "      <td>1</td>\n",
       "      <td>0</td>\n",
       "      <td>2</td>\n",
       "      <td>4</td>\n",
       "      <td>1</td>\n",
       "      <td>2</td>\n",
       "      <td>0</td>\n",
       "      <td>8</td>\n",
       "      <td>4</td>\n",
       "    </tr>\n",
       "  </tbody>\n",
       "</table>\n",
       "<p>1459 rows × 58 columns</p>\n",
       "</div>"
      ],
      "text/plain": [
       "      SalePrice  LotFrontage   LotArea  MasVnrArea  GarageArea  WoodDeckSF  \\\n",
       "1460        NaN     4.394449  9.360741    0.000000    6.594413    4.948760   \n",
       "1461        NaN     4.406719  9.565775    4.691348    5.746203    5.976351   \n",
       "1462        NaN     4.317488  9.534668    0.000000    6.180017    5.361292   \n",
       "1463        NaN     4.369448  9.208238    3.044522    6.154858    5.888878   \n",
       "1464        NaN     3.784190  8.518392    0.000000    6.228511    0.000000   \n",
       "...         ...          ...       ...         ...         ...         ...   \n",
       "2914        NaN     3.091042  7.568896    0.000000    0.000000    0.000000   \n",
       "2915        NaN     3.091042  7.546974    0.000000    5.659482    0.000000   \n",
       "2916        NaN     5.081404  9.903538    0.000000    6.357842    6.163315   \n",
       "2917        NaN     4.143135  9.253591    0.000000    0.000000    4.394449   \n",
       "2918        NaN     4.317488  9.172431    4.553877    6.478510    5.252273   \n",
       "\n",
       "      TotalPorchSF   TotalSF  AgeRemodAdd  TotalHomeQuality  ...  Functional  \\\n",
       "1460      4.795791  7.483807           50                11  ...           6   \n",
       "1461      3.610918  7.885705           53                12  ...           6   \n",
       "1462      3.555348  7.846981           13                10  ...           6   \n",
       "1463      3.610918  7.836370           13                12  ...           6   \n",
       "1464      5.424950  7.848153           19                13  ...           6   \n",
       "...            ...       ...          ...               ...  ...         ...   \n",
       "2914      0.000000  7.401842           37                11  ...           6   \n",
       "2915      3.218876  7.401842           37                 9  ...           6   \n",
       "2916      0.000000  7.803435           11                12  ...           6   \n",
       "2917      3.496508  7.540622           15                10  ...           6   \n",
       "2918      3.891820  8.005367           13                12  ...           6   \n",
       "\n",
       "      GarageType  GarageFinish  PavedDrive  Fence  MiscFeature  MoSold  \\\n",
       "1460           1             3           2      2            1       8   \n",
       "1461           1             3           2      4            0       8   \n",
       "1462           1             0           2      2            1       5   \n",
       "1463           1             0           2      4            1       8   \n",
       "1464           1             2           2      4            1       0   \n",
       "...          ...           ...         ...    ...          ...     ...   \n",
       "2914           6             1           2      4            1       8   \n",
       "2915           4             3           2      4            1       6   \n",
       "2916           5             3           2      4            1      11   \n",
       "2917           6             1           2      2            3       9   \n",
       "2918           1             0           2      4            1       2   \n",
       "\n",
       "      YrSold  SaleType  SaleCondition  \n",
       "1460       4         8              4  \n",
       "1461       4         8              4  \n",
       "1462       4         8              4  \n",
       "1463       4         8              4  \n",
       "1464       4         8              4  \n",
       "...      ...       ...            ...  \n",
       "2914       0         8              4  \n",
       "2915       0         8              0  \n",
       "2916       0         8              0  \n",
       "2917       0         8              4  \n",
       "2918       0         8              4  \n",
       "\n",
       "[1459 rows x 58 columns]"
      ]
     },
     "execution_count": 3,
     "metadata": {},
     "output_type": "execute_result"
    }
   ],
   "source": [
    "data_test"
   ]
  },
  {
   "cell_type": "code",
   "execution_count": 4,
   "metadata": {},
   "outputs": [
    {
     "name": "stdout",
     "output_type": "stream",
     "text": [
      "Index(['SalePrice', 'LotFrontage', 'LotArea', 'MasVnrArea', 'GarageArea',\n",
      "       'WoodDeckSF', 'TotalPorchSF', 'TotalSF', 'AgeRemodAdd',\n",
      "       'TotalHomeQuality', 'TotalExterQuality', 'TotalBsmtQuality',\n",
      "       'HeatingQC', 'FireplaceQu', 'TotalGarageQuality', 'PoolQC',\n",
      "       'Fireplaces', 'TotalBathrooms', 'KitchenAbvGr', 'BedroomAbvGr',\n",
      "       'Bsmt_Unf_share', 'low_qual_share',\n",
      "       'TotRmsAbvGrd_withoutbedroomskitchen', 'MSSubClass', 'MSZoning',\n",
      "       'Street', 'Alley', 'LotShape', 'LandContour', 'Utilities', 'LotConfig',\n",
      "       'LandSlope', 'Neighborhood', 'Condition1', 'Condition2', 'BldgType',\n",
      "       'RoofStyle', 'RoofMatl', 'Exterior1st', 'MasVnrType', 'Foundation',\n",
      "       'BsmtExposure', 'BsmtFinType1', 'BsmtFinType2', 'Heating', 'CentralAir',\n",
      "       'Electrical', 'KitchenQual', 'Functional', 'GarageType', 'GarageFinish',\n",
      "       'PavedDrive', 'Fence', 'MiscFeature', 'MoSold', 'YrSold', 'SaleType',\n",
      "       'SaleCondition'],\n",
      "      dtype='object')\n"
     ]
    },
    {
     "data": {
      "text/html": [
       "<div>\n",
       "<style scoped>\n",
       "    .dataframe tbody tr th:only-of-type {\n",
       "        vertical-align: middle;\n",
       "    }\n",
       "\n",
       "    .dataframe tbody tr th {\n",
       "        vertical-align: top;\n",
       "    }\n",
       "\n",
       "    .dataframe thead th {\n",
       "        text-align: right;\n",
       "    }\n",
       "</style>\n",
       "<table border=\"1\" class=\"dataframe\">\n",
       "  <thead>\n",
       "    <tr style=\"text-align: right;\">\n",
       "      <th></th>\n",
       "      <th>BedroomAbvGr</th>\n",
       "      <th>low_qual_share</th>\n",
       "      <th>TotRmsAbvGrd_withoutbedroomskitchen</th>\n",
       "      <th>MSSubClass</th>\n",
       "    </tr>\n",
       "  </thead>\n",
       "  <tbody>\n",
       "    <tr>\n",
       "      <th>0</th>\n",
       "      <td>3</td>\n",
       "      <td>0.0</td>\n",
       "      <td>4</td>\n",
       "      <td>10</td>\n",
       "    </tr>\n",
       "    <tr>\n",
       "      <th>1</th>\n",
       "      <td>3</td>\n",
       "      <td>0.0</td>\n",
       "      <td>2</td>\n",
       "      <td>4</td>\n",
       "    </tr>\n",
       "    <tr>\n",
       "      <th>2</th>\n",
       "      <td>3</td>\n",
       "      <td>0.0</td>\n",
       "      <td>2</td>\n",
       "      <td>10</td>\n",
       "    </tr>\n",
       "    <tr>\n",
       "      <th>3</th>\n",
       "      <td>3</td>\n",
       "      <td>0.0</td>\n",
       "      <td>3</td>\n",
       "      <td>9</td>\n",
       "    </tr>\n",
       "    <tr>\n",
       "      <th>4</th>\n",
       "      <td>4</td>\n",
       "      <td>0.0</td>\n",
       "      <td>4</td>\n",
       "      <td>10</td>\n",
       "    </tr>\n",
       "    <tr>\n",
       "      <th>...</th>\n",
       "      <td>...</td>\n",
       "      <td>...</td>\n",
       "      <td>...</td>\n",
       "      <td>...</td>\n",
       "    </tr>\n",
       "    <tr>\n",
       "      <th>1455</th>\n",
       "      <td>3</td>\n",
       "      <td>0.0</td>\n",
       "      <td>3</td>\n",
       "      <td>10</td>\n",
       "    </tr>\n",
       "    <tr>\n",
       "      <th>1456</th>\n",
       "      <td>3</td>\n",
       "      <td>0.0</td>\n",
       "      <td>3</td>\n",
       "      <td>4</td>\n",
       "    </tr>\n",
       "    <tr>\n",
       "      <th>1457</th>\n",
       "      <td>4</td>\n",
       "      <td>0.0</td>\n",
       "      <td>4</td>\n",
       "      <td>9</td>\n",
       "    </tr>\n",
       "    <tr>\n",
       "      <th>1458</th>\n",
       "      <td>2</td>\n",
       "      <td>0.0</td>\n",
       "      <td>2</td>\n",
       "      <td>4</td>\n",
       "    </tr>\n",
       "    <tr>\n",
       "      <th>1459</th>\n",
       "      <td>3</td>\n",
       "      <td>0.0</td>\n",
       "      <td>2</td>\n",
       "      <td>4</td>\n",
       "    </tr>\n",
       "  </tbody>\n",
       "</table>\n",
       "<p>1460 rows × 4 columns</p>\n",
       "</div>"
      ],
      "text/plain": [
       "      BedroomAbvGr  low_qual_share  TotRmsAbvGrd_withoutbedroomskitchen  \\\n",
       "0                3             0.0                                    4   \n",
       "1                3             0.0                                    2   \n",
       "2                3             0.0                                    2   \n",
       "3                3             0.0                                    3   \n",
       "4                4             0.0                                    4   \n",
       "...            ...             ...                                  ...   \n",
       "1455             3             0.0                                    3   \n",
       "1456             3             0.0                                    3   \n",
       "1457             4             0.0                                    4   \n",
       "1458             2             0.0                                    2   \n",
       "1459             3             0.0                                    2   \n",
       "\n",
       "      MSSubClass  \n",
       "0             10  \n",
       "1              4  \n",
       "2             10  \n",
       "3              9  \n",
       "4             10  \n",
       "...          ...  \n",
       "1455          10  \n",
       "1456           4  \n",
       "1457           9  \n",
       "1458           4  \n",
       "1459           4  \n",
       "\n",
       "[1460 rows x 4 columns]"
      ]
     },
     "execution_count": 4,
     "metadata": {},
     "output_type": "execute_result"
    }
   ],
   "source": [
    "y_train=data_train[data_train.columns[0]].values\n",
    "\n",
    "print(data_train.columns)\n",
    "\n",
    "X_train = data_train[data_train.columns[1:23]].values\n",
    "X_test = data_test[data_test.columns[1:23]].values\n",
    "\n",
    "data_train[['BedroomAbvGr','low_qual_share','TotRmsAbvGrd_withoutbedroomskitchen','MSSubClass']]"
   ]
  },
  {
   "cell_type": "markdown",
   "metadata": {},
   "source": [
    "Concatenate numerical variables with dummy variables"
   ]
  },
  {
   "cell_type": "code",
   "execution_count": 5,
   "metadata": {},
   "outputs": [],
   "source": [
    "X_train =np.concatenate((X_train,X_dummy_train),axis=1)\n",
    "X_test =np.concatenate((X_test,X_dummy_test),axis=1)"
   ]
  },
  {
   "cell_type": "markdown",
   "metadata": {},
   "source": [
    "Using Neighborhood for the stratification of the train_test_split seems good option"
   ]
  },
  {
   "cell_type": "code",
   "execution_count": 6,
   "metadata": {},
   "outputs": [],
   "source": [
    "strata = data_train['Neighborhood'].values\n",
    "\n",
    "from sklearn import model_selection\n",
    "\n",
    "X_train_train, X_train_validation, y_train_train, y_train_validation = model_selection.train_test_split(X_train, y_train, test_size=0.25,stratify=strata, random_state=42 ) "
   ]
  },
  {
   "cell_type": "markdown",
   "metadata": {},
   "source": [
    "Reduce and center the data"
   ]
  },
  {
   "cell_type": "code",
   "execution_count": 7,
   "metadata": {},
   "outputs": [],
   "source": [
    "from sklearn import preprocessing\n",
    "std_scale = preprocessing.StandardScaler().fit(X_train_train[:,0:15])\n",
    "X_train_train_std = std_scale.transform(X_train_train[:,0:15])\n",
    "X_train_validation_std = std_scale.transform(X_train_validation[:,0:15])\n",
    "X_test_std = std_scale.transform(X_test[:,0:15])\n",
    "\n",
    "X_train_train_std=np.concatenate((X_train_train_std,X_train_train[:,15:]),axis=1)\n",
    "X_train_validation_std=np.concatenate((X_train_validation_std,X_train_validation[:,15:]),axis=1)\n",
    "X_test_std=np.concatenate((X_test_std,X_test[:,15:]),axis=1)"
   ]
  },
  {
   "cell_type": "markdown",
   "metadata": {},
   "source": [
    "Creation of Fold"
   ]
  },
  {
   "cell_type": "code",
   "execution_count": 8,
   "metadata": {},
   "outputs": [],
   "source": [
    "\n",
    "from sklearn import model_selection\n",
    "# define model evaluation method\n",
    "cv = model_selection.RepeatedKFold(n_splits=5,random_state=42 )"
   ]
  },
  {
   "cell_type": "markdown",
   "metadata": {},
   "source": [
    "adaboost "
   ]
  },
  {
   "cell_type": "code",
   "execution_count": 9,
   "metadata": {
    "scrolled": true
   },
   "outputs": [
    {
     "name": "stdout",
     "output_type": "stream",
     "text": [
      "neg RMSE d'une regression ridge avec cv (apprentissage): -0.1695\n",
      "RMSE d'une regression ridge avec cv (généralisation): 0.1853\n"
     ]
    },
    {
     "data": {
      "text/plain": [
       "Text(0.5, 0, 'Truths')"
      ]
     },
     "execution_count": 9,
     "metadata": {},
     "output_type": "execute_result"
    },
    {
     "data": {
      "image/png": "[encoded data removed]",
      "text/plain": [
       "<Figure size 360x360 with 1 Axes>"
      ]
     },
     "metadata": {
      "needs_background": "light"
     },
     "output_type": "display_data"
    }
   ],
   "source": [
    "from sklearn.ensemble import AdaBoostRegressor\n",
    "from sklearn import metrics\n",
    "n_estimators = [50,100,200,300,400,500]\n",
    "loss=['linear', 'square', 'exponential']\n",
    "score = 'neg_root_mean_squared_error'\n",
    "param_grid={ 'n_estimators': n_estimators,'loss': loss }\n",
    "adaboost = AdaBoostRegressor(random_state=0)\n",
    "grid_pred = model_selection.GridSearchCV(\n",
    "        adaboost,\n",
    "        param_grid,\n",
    "        cv=cv,\n",
    "        scoring=score)\n",
    "grid_pred.fit(X_train_train_std, y_train_train)\n",
    "print('''neg RMSE d'une regression ridge avec cv (apprentissage): {:.4f}'''.format(grid_pred.best_score_))\n",
    "y_train_validation_pred_cv = grid_pred.predict(X_train_validation_std)\n",
    "rmse_cv = np.sqrt(metrics.mean_squared_error(y_train_validation, y_train_validation_pred_cv))\n",
    "print('''RMSE d'une regression ridge avec cv (généralisation): {:.4f}'''.format(rmse_cv))\n",
    "\n",
    "fig, ax = plt.subplots(figsize=(5, 5))\n",
    "plt.scatter(y_train_validation, y_train_validation_pred_cv)\n",
    "p1 = max(max(y_train_validation_pred_cv), max(y_train_validation))\n",
    "p2 = min(min(y_train_validation_pred_cv), min(y_train_validation))\n",
    "plt.plot([p1, p2], [p1, p2], '--',c='red')\n",
    "ax.axes.axis('equal')\n",
    "plt.title('Adaboost model, {}'.format(grid_pred.best_estimator_))\n",
    "plt.ylabel('Model predictions')\n",
    "plt.xlabel('Truths')"
   ]
  },
  {
   "cell_type": "code",
   "execution_count": 10,
   "metadata": {},
   "outputs": [],
   "source": [
    "r2_cv = metrics.r2_score(y_train_validation, y_train_validation_pred_cv)"
   ]
  },
  {
   "cell_type": "code",
   "execution_count": 11,
   "metadata": {},
   "outputs": [
    {
     "name": "stdout",
     "output_type": "stream",
     "text": [
      "r² d'un adaboost avec cv (généralisation): 0.7755\n"
     ]
    }
   ],
   "source": [
    "print('''r² d'un adaboost avec cv (généralisation): {:.4f}'''.format(r2_cv))"
   ]
  },
  {
   "cell_type": "code",
   "execution_count": 12,
   "metadata": {},
   "outputs": [],
   "source": [
    "n_estimators=grid_pred.best_params_['n_estimators']\n",
    "loss=grid_pred.best_params_['loss']"
   ]
  },
  {
   "cell_type": "code",
   "execution_count": 13,
   "metadata": {},
   "outputs": [],
   "source": [
    "std_scale = preprocessing.StandardScaler().fit(X_train[:,0:15])\n",
    "X_train_std = std_scale.transform(X_train[:,0:15])\n",
    "X_test_std = std_scale.transform(X_test[:,0:15])\n",
    "\n",
    "X_train_std=np.concatenate((X_train_std,X_train[:,15:]),axis=1)\n",
    "X_test_std=np.concatenate((X_test_std,X_test[:,15:]),axis=1)"
   ]
  },
  {
   "cell_type": "code",
   "execution_count": 14,
   "metadata": {},
   "outputs": [
    {
     "data": {
      "text/plain": [
       "AdaBoostRegressor(loss='exponential', n_estimators=400, random_state=0)"
      ]
     },
     "execution_count": 14,
     "metadata": {},
     "output_type": "execute_result"
    }
   ],
   "source": [
    "adaboost = AdaBoostRegressor(random_state=0)\n",
    "adaboost.set_params(n_estimators=n_estimators,loss=loss)\n",
    "adaboost.fit(X_train_std, y_train)"
   ]
  },
  {
   "cell_type": "code",
   "execution_count": 15,
   "metadata": {},
   "outputs": [],
   "source": [
    "adaboost_features_importance=pd.DataFrame(adaboost.feature_importances_[0:22],index=data_train.columns[1:23], columns=[\"param\"])"
   ]
  },
  {
   "cell_type": "code",
   "execution_count": 16,
   "metadata": {},
   "outputs": [],
   "source": [
    "adaboost_features_importance=adaboost_features_importance.sort_values(by = 'param',ascending = False)"
   ]
  },
  {
   "cell_type": "code",
   "execution_count": 17,
   "metadata": {},
   "outputs": [
    {
     "data": {
      "text/html": [
       "<div>\n",
       "<style scoped>\n",
       "    .dataframe tbody tr th:only-of-type {\n",
       "        vertical-align: middle;\n",
       "    }\n",
       "\n",
       "    .dataframe tbody tr th {\n",
       "        vertical-align: top;\n",
       "    }\n",
       "\n",
       "    .dataframe thead th {\n",
       "        text-align: right;\n",
       "    }\n",
       "</style>\n",
       "<table border=\"1\" class=\"dataframe\">\n",
       "  <thead>\n",
       "    <tr style=\"text-align: right;\">\n",
       "      <th></th>\n",
       "      <th>param</th>\n",
       "    </tr>\n",
       "  </thead>\n",
       "  <tbody>\n",
       "    <tr>\n",
       "      <th>TotalSF</th>\n",
       "      <td>0.356204</td>\n",
       "    </tr>\n",
       "    <tr>\n",
       "      <th>TotalHomeQuality</th>\n",
       "      <td>0.136909</td>\n",
       "    </tr>\n",
       "    <tr>\n",
       "      <th>TotalBathrooms</th>\n",
       "      <td>0.087483</td>\n",
       "    </tr>\n",
       "    <tr>\n",
       "      <th>TotalBsmtQuality</th>\n",
       "      <td>0.078658</td>\n",
       "    </tr>\n",
       "    <tr>\n",
       "      <th>GarageArea</th>\n",
       "      <td>0.073460</td>\n",
       "    </tr>\n",
       "    <tr>\n",
       "      <th>FireplaceQu</th>\n",
       "      <td>0.064804</td>\n",
       "    </tr>\n",
       "    <tr>\n",
       "      <th>AgeRemodAdd</th>\n",
       "      <td>0.024796</td>\n",
       "    </tr>\n",
       "    <tr>\n",
       "      <th>LotFrontage</th>\n",
       "      <td>0.024788</td>\n",
       "    </tr>\n",
       "    <tr>\n",
       "      <th>TotRmsAbvGrd_withoutbedroomskitchen</th>\n",
       "      <td>0.014526</td>\n",
       "    </tr>\n",
       "    <tr>\n",
       "      <th>LotArea</th>\n",
       "      <td>0.008490</td>\n",
       "    </tr>\n",
       "    <tr>\n",
       "      <th>HeatingQC</th>\n",
       "      <td>0.007115</td>\n",
       "    </tr>\n",
       "    <tr>\n",
       "      <th>BedroomAbvGr</th>\n",
       "      <td>0.005279</td>\n",
       "    </tr>\n",
       "    <tr>\n",
       "      <th>TotalExterQuality</th>\n",
       "      <td>0.005000</td>\n",
       "    </tr>\n",
       "    <tr>\n",
       "      <th>Fireplaces</th>\n",
       "      <td>0.004252</td>\n",
       "    </tr>\n",
       "    <tr>\n",
       "      <th>Bsmt_Unf_share</th>\n",
       "      <td>0.003063</td>\n",
       "    </tr>\n",
       "    <tr>\n",
       "      <th>TotalPorchSF</th>\n",
       "      <td>0.001977</td>\n",
       "    </tr>\n",
       "    <tr>\n",
       "      <th>WoodDeckSF</th>\n",
       "      <td>0.001905</td>\n",
       "    </tr>\n",
       "    <tr>\n",
       "      <th>TotalGarageQuality</th>\n",
       "      <td>0.001272</td>\n",
       "    </tr>\n",
       "    <tr>\n",
       "      <th>MasVnrArea</th>\n",
       "      <td>0.000613</td>\n",
       "    </tr>\n",
       "    <tr>\n",
       "      <th>low_qual_share</th>\n",
       "      <td>0.000010</td>\n",
       "    </tr>\n",
       "    <tr>\n",
       "      <th>PoolQC</th>\n",
       "      <td>0.000000</td>\n",
       "    </tr>\n",
       "    <tr>\n",
       "      <th>KitchenAbvGr</th>\n",
       "      <td>0.000000</td>\n",
       "    </tr>\n",
       "  </tbody>\n",
       "</table>\n",
       "</div>"
      ],
      "text/plain": [
       "                                        param\n",
       "TotalSF                              0.356204\n",
       "TotalHomeQuality                     0.136909\n",
       "TotalBathrooms                       0.087483\n",
       "TotalBsmtQuality                     0.078658\n",
       "GarageArea                           0.073460\n",
       "FireplaceQu                          0.064804\n",
       "AgeRemodAdd                          0.024796\n",
       "LotFrontage                          0.024788\n",
       "TotRmsAbvGrd_withoutbedroomskitchen  0.014526\n",
       "LotArea                              0.008490\n",
       "HeatingQC                            0.007115\n",
       "BedroomAbvGr                         0.005279\n",
       "TotalExterQuality                    0.005000\n",
       "Fireplaces                           0.004252\n",
       "Bsmt_Unf_share                       0.003063\n",
       "TotalPorchSF                         0.001977\n",
       "WoodDeckSF                           0.001905\n",
       "TotalGarageQuality                   0.001272\n",
       "MasVnrArea                           0.000613\n",
       "low_qual_share                       0.000010\n",
       "PoolQC                               0.000000\n",
       "KitchenAbvGr                         0.000000"
      ]
     },
     "execution_count": 17,
     "metadata": {},
     "output_type": "execute_result"
    }
   ],
   "source": [
    "adaboost_features_importance"
   ]
  },
  {
   "cell_type": "code",
   "execution_count": 18,
   "metadata": {},
   "outputs": [
    {
     "data": {
      "image/png": "[encoded data removed]",
      "text/plain": [
       "<Figure size 864x648 with 1 Axes>"
      ]
     },
     "metadata": {
      "needs_background": "light"
     },
     "output_type": "display_data"
    }
   ],
   "source": [
    "fig,axes=plt.subplots(1,1,figsize=(12,9))\n",
    "sns.barplot(y=adaboost_features_importance['param'],x=adaboost_features_importance.index,palette='Spectral')\n",
    "plt.title('adaboost features importance',size=20,color='black',y=1.03)\n",
    "plt.xticks(rotation=90)\n",
    "for p in axes.patches:\n",
    "            value = p.get_height()\n",
    "            if value <=.5:\n",
    "                continue\n",
    "            x = p.get_x() + p.get_width()-.9\n",
    "            y = p.get_y() + p.get_height()+(.02*value)\n",
    "            axes.text(x, y, str(value)[1:5], ha=\"left\",fontsize=12,color='#000000')\n",
    "plt.tight_layout();"
   ]
  },
  {
   "cell_type": "code",
   "execution_count": 19,
   "metadata": {},
   "outputs": [],
   "source": [
    "adaboost_features_importance.to_csv(os.path.join(path_to_data,'adaboost_features_importance_prediction.csv'),index = True, header=True)"
   ]
  },
  {
   "cell_type": "code",
   "execution_count": 20,
   "metadata": {},
   "outputs": [
    {
     "name": "stdout",
     "output_type": "stream",
     "text": [
      "rmse_apprentissage_final: 0.1451068285790591\n"
     ]
    }
   ],
   "source": [
    "y_train_predict = adaboost.predict(X_train_std)\n",
    "print(\"rmse_apprentissage_final: {}\".format(np.sqrt(metrics.mean_squared_error(y_train, y_train_predict))))"
   ]
  },
  {
   "cell_type": "code",
   "execution_count": 21,
   "metadata": {},
   "outputs": [
    {
     "data": {
      "text/plain": [
       "Text(0.5, 0, 'Truths')"
      ]
     },
     "execution_count": 21,
     "metadata": {},
     "output_type": "execute_result"
    },
    {
     "data": {
      "image/png": "[encoded data removed]",
      "text/plain": [
       "<Figure size 360x360 with 1 Axes>"
      ]
     },
     "metadata": {
      "needs_background": "light"
     },
     "output_type": "display_data"
    }
   ],
   "source": [
    "fig, ax = plt.subplots(figsize=(5, 5))\n",
    "plt.scatter(y_train, y_train_predict)\n",
    "p1 = max(max(y_train_predict), max(y_train))\n",
    "p2 = min(min(y_train_predict), min(y_train))\n",
    "plt.plot([p1, p2], [p1, p2], '--',c='red')\n",
    "ax.axes.axis('equal')\n",
    "plt.title('adaboost model, {}'.format(grid_pred.best_estimator_))\n",
    "plt.ylabel('Model predictions')\n",
    "plt.xlabel('Truths')"
   ]
  },
  {
   "cell_type": "code",
   "execution_count": 22,
   "metadata": {},
   "outputs": [],
   "source": [
    "y_test = adaboost.predict(X_test_std)"
   ]
  },
  {
   "cell_type": "code",
   "execution_count": 23,
   "metadata": {},
   "outputs": [
    {
     "name": "stdout",
     "output_type": "stream",
     "text": [
      "[11.58087561 11.7891829  11.97229669 ... 11.92050651 11.58761018\n",
      " 12.29426327]\n"
     ]
    }
   ],
   "source": [
    "print(y_test)"
   ]
  },
  {
   "cell_type": "code",
   "execution_count": 24,
   "metadata": {},
   "outputs": [],
   "source": [
    "data_y_predict=pd.DataFrame(y_test,index=data_test.index,columns=[\"SalePrice\"])"
   ]
  },
  {
   "cell_type": "code",
   "execution_count": 25,
   "metadata": {},
   "outputs": [
    {
     "data": {
      "text/html": [
       "<div>\n",
       "<style scoped>\n",
       "    .dataframe tbody tr th:only-of-type {\n",
       "        vertical-align: middle;\n",
       "    }\n",
       "\n",
       "    .dataframe tbody tr th {\n",
       "        vertical-align: top;\n",
       "    }\n",
       "\n",
       "    .dataframe thead th {\n",
       "        text-align: right;\n",
       "    }\n",
       "</style>\n",
       "<table border=\"1\" class=\"dataframe\">\n",
       "  <thead>\n",
       "    <tr style=\"text-align: right;\">\n",
       "      <th></th>\n",
       "      <th>SalePrice</th>\n",
       "    </tr>\n",
       "  </thead>\n",
       "  <tbody>\n",
       "    <tr>\n",
       "      <th>1460</th>\n",
       "      <td>11.580876</td>\n",
       "    </tr>\n",
       "    <tr>\n",
       "      <th>1461</th>\n",
       "      <td>11.789183</td>\n",
       "    </tr>\n",
       "    <tr>\n",
       "      <th>1462</th>\n",
       "      <td>11.972297</td>\n",
       "    </tr>\n",
       "    <tr>\n",
       "      <th>1463</th>\n",
       "      <td>11.989244</td>\n",
       "    </tr>\n",
       "    <tr>\n",
       "      <th>1464</th>\n",
       "      <td>12.042278</td>\n",
       "    </tr>\n",
       "    <tr>\n",
       "      <th>...</th>\n",
       "      <td>...</td>\n",
       "    </tr>\n",
       "    <tr>\n",
       "      <th>2914</th>\n",
       "      <td>11.459153</td>\n",
       "    </tr>\n",
       "    <tr>\n",
       "      <th>2915</th>\n",
       "      <td>11.388841</td>\n",
       "    </tr>\n",
       "    <tr>\n",
       "      <th>2916</th>\n",
       "      <td>11.920507</td>\n",
       "    </tr>\n",
       "    <tr>\n",
       "      <th>2917</th>\n",
       "      <td>11.587610</td>\n",
       "    </tr>\n",
       "    <tr>\n",
       "      <th>2918</th>\n",
       "      <td>12.294263</td>\n",
       "    </tr>\n",
       "  </tbody>\n",
       "</table>\n",
       "<p>1459 rows × 1 columns</p>\n",
       "</div>"
      ],
      "text/plain": [
       "      SalePrice\n",
       "1460  11.580876\n",
       "1461  11.789183\n",
       "1462  11.972297\n",
       "1463  11.989244\n",
       "1464  12.042278\n",
       "...         ...\n",
       "2914  11.459153\n",
       "2915  11.388841\n",
       "2916  11.920507\n",
       "2917  11.587610\n",
       "2918  12.294263\n",
       "\n",
       "[1459 rows x 1 columns]"
      ]
     },
     "execution_count": 25,
     "metadata": {},
     "output_type": "execute_result"
    }
   ],
   "source": [
    "data_y_predict"
   ]
  },
  {
   "cell_type": "code",
   "execution_count": 26,
   "metadata": {},
   "outputs": [],
   "source": [
    "data_y_predict['SalePrice']=np.expm1(data_y_predict['SalePrice'])"
   ]
  },
  {
   "cell_type": "code",
   "execution_count": 27,
   "metadata": {},
   "outputs": [],
   "source": [
    "data_y_predict['id']=data_y_predict.index"
   ]
  },
  {
   "cell_type": "code",
   "execution_count": 28,
   "metadata": {},
   "outputs": [],
   "source": [
    "data_y_predict['id']=data_y_predict['id']+1"
   ]
  },
  {
   "cell_type": "code",
   "execution_count": 29,
   "metadata": {},
   "outputs": [],
   "source": [
    "data_y_predict=data_y_predict[['id','SalePrice']]"
   ]
  },
  {
   "cell_type": "code",
   "execution_count": 30,
   "metadata": {},
   "outputs": [
    {
     "data": {
      "text/html": [
       "<div>\n",
       "<style scoped>\n",
       "    .dataframe tbody tr th:only-of-type {\n",
       "        vertical-align: middle;\n",
       "    }\n",
       "\n",
       "    .dataframe tbody tr th {\n",
       "        vertical-align: top;\n",
       "    }\n",
       "\n",
       "    .dataframe thead th {\n",
       "        text-align: right;\n",
       "    }\n",
       "</style>\n",
       "<table border=\"1\" class=\"dataframe\">\n",
       "  <thead>\n",
       "    <tr style=\"text-align: right;\">\n",
       "      <th></th>\n",
       "      <th>id</th>\n",
       "      <th>SalePrice</th>\n",
       "    </tr>\n",
       "  </thead>\n",
       "  <tbody>\n",
       "    <tr>\n",
       "      <th>1460</th>\n",
       "      <td>1461</td>\n",
       "      <td>107030.195162</td>\n",
       "    </tr>\n",
       "    <tr>\n",
       "      <th>1461</th>\n",
       "      <td>1462</td>\n",
       "      <td>131817.716507</td>\n",
       "    </tr>\n",
       "    <tr>\n",
       "      <th>1462</th>\n",
       "      <td>1463</td>\n",
       "      <td>158306.827274</td>\n",
       "    </tr>\n",
       "    <tr>\n",
       "      <th>1463</th>\n",
       "      <td>1464</td>\n",
       "      <td>161012.609785</td>\n",
       "    </tr>\n",
       "    <tr>\n",
       "      <th>1464</th>\n",
       "      <td>1465</td>\n",
       "      <td>169782.261873</td>\n",
       "    </tr>\n",
       "    <tr>\n",
       "      <th>...</th>\n",
       "      <td>...</td>\n",
       "      <td>...</td>\n",
       "    </tr>\n",
       "    <tr>\n",
       "      <th>2914</th>\n",
       "      <td>2915</td>\n",
       "      <td>94763.800245</td>\n",
       "    </tr>\n",
       "    <tr>\n",
       "      <th>2915</th>\n",
       "      <td>2916</td>\n",
       "      <td>88329.548701</td>\n",
       "    </tr>\n",
       "    <tr>\n",
       "      <th>2916</th>\n",
       "      <td>2917</td>\n",
       "      <td>150316.726278</td>\n",
       "    </tr>\n",
       "    <tr>\n",
       "      <th>2917</th>\n",
       "      <td>2918</td>\n",
       "      <td>107753.436400</td>\n",
       "    </tr>\n",
       "    <tr>\n",
       "      <th>2918</th>\n",
       "      <td>2919</td>\n",
       "      <td>218438.260496</td>\n",
       "    </tr>\n",
       "  </tbody>\n",
       "</table>\n",
       "<p>1459 rows × 2 columns</p>\n",
       "</div>"
      ],
      "text/plain": [
       "        id      SalePrice\n",
       "1460  1461  107030.195162\n",
       "1461  1462  131817.716507\n",
       "1462  1463  158306.827274\n",
       "1463  1464  161012.609785\n",
       "1464  1465  169782.261873\n",
       "...    ...            ...\n",
       "2914  2915   94763.800245\n",
       "2915  2916   88329.548701\n",
       "2916  2917  150316.726278\n",
       "2917  2918  107753.436400\n",
       "2918  2919  218438.260496\n",
       "\n",
       "[1459 rows x 2 columns]"
      ]
     },
     "execution_count": 30,
     "metadata": {},
     "output_type": "execute_result"
    }
   ],
   "source": [
    "data_y_predict"
   ]
  },
  {
   "cell_type": "code",
   "execution_count": 31,
   "metadata": {},
   "outputs": [],
   "source": [
    "data_y_predict.to_csv(os.path.join(path_to_data,'adaboost_prediction.csv'),index = False, header=True)"
   ]
  },
  {
   "cell_type": "code",
   "execution_count": null,
   "metadata": {},
   "outputs": [],
   "source": []
  }
 ],
 "metadata": {
  "kernelspec": {
   "display_name": "Python 3",
   "language": "python",
   "name": "python3"
  },
  "language_info": {
   "codemirror_mode": {
    "name": "ipython",
    "version": 3
   },
   "file_extension": ".py",
   "mimetype": "text/x-python",
   "name": "python",
   "nbconvert_exporter": "python",
   "pygments_lexer": "ipython3",
   "version": "3.8.5"
  }
 },
 "nbformat": 4,
 "nbformat_minor": 4
}
