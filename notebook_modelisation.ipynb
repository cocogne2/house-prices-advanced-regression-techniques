{
 "cells": [
  {
   "cell_type": "code",
   "execution_count": 1,
   "metadata": {},
   "outputs": [],
   "source": [
    "import pandas as pd\n",
    "import os\n",
    "import numpy as np\n",
    "import matplotlib.pyplot as plt\n",
    "import seaborn as sns"
   ]
  },
  {
   "cell_type": "code",
   "execution_count": 2,
   "metadata": {},
   "outputs": [],
   "source": [
    "path_to_data = os.path.join('c:\\\\', 'openclassrooms', 'projet 8','house-prices-advanced-regression-techniques')\n",
    "data_fname = 'data_train.csv'\n",
    "data_train = pd.read_csv(os.path.join(path_to_data, data_fname), sep=\",\", index_col = 0)\n",
    "data_fname = 'data_test.csv'\n",
    "data_test = pd.read_csv(os.path.join(path_to_data, data_fname), sep=\",\", index_col = 0)\n",
    "data_fname = 'X_dummy_train.csv'\n",
    "X_dummy_train = pd.read_csv(os.path.join(path_to_data, data_fname), sep=\",\", index_col = 0)\n",
    "X_dummy_train=X_dummy_train.to_numpy()\n",
    "data_fname = 'X_dummy_test.csv'\n",
    "X_dummy_test = pd.read_csv(os.path.join(path_to_data, data_fname), sep=\",\", index_col = 0)\n",
    "X_dummy_test=X_dummy_test.to_numpy()"
   ]
  },
  {
   "cell_type": "code",
   "execution_count": 3,
   "metadata": {},
   "outputs": [
    {
     "data": {
      "text/html": [
       "<div>\n",
       "<style scoped>\n",
       "    .dataframe tbody tr th:only-of-type {\n",
       "        vertical-align: middle;\n",
       "    }\n",
       "\n",
       "    .dataframe tbody tr th {\n",
       "        vertical-align: top;\n",
       "    }\n",
       "\n",
       "    .dataframe thead th {\n",
       "        text-align: right;\n",
       "    }\n",
       "</style>\n",
       "<table border=\"1\" class=\"dataframe\">\n",
       "  <thead>\n",
       "    <tr style=\"text-align: right;\">\n",
       "      <th></th>\n",
       "      <th>SalePrice</th>\n",
       "      <th>LotFrontage</th>\n",
       "      <th>LotArea</th>\n",
       "      <th>MasVnrArea</th>\n",
       "      <th>GarageArea</th>\n",
       "      <th>WoodDeckSF</th>\n",
       "      <th>TotalPorchSF</th>\n",
       "      <th>TotalSF</th>\n",
       "      <th>AgeRemodAdd</th>\n",
       "      <th>TotalHomeQuality</th>\n",
       "      <th>...</th>\n",
       "      <th>Functional</th>\n",
       "      <th>GarageType</th>\n",
       "      <th>GarageFinish</th>\n",
       "      <th>PavedDrive</th>\n",
       "      <th>Fence</th>\n",
       "      <th>MiscFeature</th>\n",
       "      <th>MoSold</th>\n",
       "      <th>YrSold</th>\n",
       "      <th>SaleType</th>\n",
       "      <th>SaleCondition</th>\n",
       "    </tr>\n",
       "  </thead>\n",
       "  <tbody>\n",
       "    <tr>\n",
       "      <th>1460</th>\n",
       "      <td>NaN</td>\n",
       "      <td>4.394449</td>\n",
       "      <td>9.360741</td>\n",
       "      <td>0.000000</td>\n",
       "      <td>6.594413</td>\n",
       "      <td>4.948760</td>\n",
       "      <td>4.795791</td>\n",
       "      <td>7.483807</td>\n",
       "      <td>50</td>\n",
       "      <td>11</td>\n",
       "      <td>...</td>\n",
       "      <td>6</td>\n",
       "      <td>1</td>\n",
       "      <td>3</td>\n",
       "      <td>2</td>\n",
       "      <td>2</td>\n",
       "      <td>1</td>\n",
       "      <td>8</td>\n",
       "      <td>4</td>\n",
       "      <td>8</td>\n",
       "      <td>4</td>\n",
       "    </tr>\n",
       "    <tr>\n",
       "      <th>1461</th>\n",
       "      <td>NaN</td>\n",
       "      <td>4.406719</td>\n",
       "      <td>9.565775</td>\n",
       "      <td>4.691348</td>\n",
       "      <td>5.746203</td>\n",
       "      <td>5.976351</td>\n",
       "      <td>3.610918</td>\n",
       "      <td>7.885705</td>\n",
       "      <td>53</td>\n",
       "      <td>12</td>\n",
       "      <td>...</td>\n",
       "      <td>6</td>\n",
       "      <td>1</td>\n",
       "      <td>3</td>\n",
       "      <td>2</td>\n",
       "      <td>4</td>\n",
       "      <td>0</td>\n",
       "      <td>8</td>\n",
       "      <td>4</td>\n",
       "      <td>8</td>\n",
       "      <td>4</td>\n",
       "    </tr>\n",
       "    <tr>\n",
       "      <th>1462</th>\n",
       "      <td>NaN</td>\n",
       "      <td>4.317488</td>\n",
       "      <td>9.534668</td>\n",
       "      <td>0.000000</td>\n",
       "      <td>6.180017</td>\n",
       "      <td>5.361292</td>\n",
       "      <td>3.555348</td>\n",
       "      <td>7.846981</td>\n",
       "      <td>13</td>\n",
       "      <td>10</td>\n",
       "      <td>...</td>\n",
       "      <td>6</td>\n",
       "      <td>1</td>\n",
       "      <td>0</td>\n",
       "      <td>2</td>\n",
       "      <td>2</td>\n",
       "      <td>1</td>\n",
       "      <td>5</td>\n",
       "      <td>4</td>\n",
       "      <td>8</td>\n",
       "      <td>4</td>\n",
       "    </tr>\n",
       "    <tr>\n",
       "      <th>1463</th>\n",
       "      <td>NaN</td>\n",
       "      <td>4.369448</td>\n",
       "      <td>9.208238</td>\n",
       "      <td>3.044522</td>\n",
       "      <td>6.154858</td>\n",
       "      <td>5.888878</td>\n",
       "      <td>3.610918</td>\n",
       "      <td>7.836370</td>\n",
       "      <td>13</td>\n",
       "      <td>12</td>\n",
       "      <td>...</td>\n",
       "      <td>6</td>\n",
       "      <td>1</td>\n",
       "      <td>0</td>\n",
       "      <td>2</td>\n",
       "      <td>4</td>\n",
       "      <td>1</td>\n",
       "      <td>8</td>\n",
       "      <td>4</td>\n",
       "      <td>8</td>\n",
       "      <td>4</td>\n",
       "    </tr>\n",
       "    <tr>\n",
       "      <th>1464</th>\n",
       "      <td>NaN</td>\n",
       "      <td>3.784190</td>\n",
       "      <td>8.518392</td>\n",
       "      <td>0.000000</td>\n",
       "      <td>6.228511</td>\n",
       "      <td>0.000000</td>\n",
       "      <td>5.424950</td>\n",
       "      <td>7.848153</td>\n",
       "      <td>19</td>\n",
       "      <td>13</td>\n",
       "      <td>...</td>\n",
       "      <td>6</td>\n",
       "      <td>1</td>\n",
       "      <td>2</td>\n",
       "      <td>2</td>\n",
       "      <td>4</td>\n",
       "      <td>1</td>\n",
       "      <td>0</td>\n",
       "      <td>4</td>\n",
       "      <td>8</td>\n",
       "      <td>4</td>\n",
       "    </tr>\n",
       "    <tr>\n",
       "      <th>...</th>\n",
       "      <td>...</td>\n",
       "      <td>...</td>\n",
       "      <td>...</td>\n",
       "      <td>...</td>\n",
       "      <td>...</td>\n",
       "      <td>...</td>\n",
       "      <td>...</td>\n",
       "      <td>...</td>\n",
       "      <td>...</td>\n",
       "      <td>...</td>\n",
       "      <td>...</td>\n",
       "      <td>...</td>\n",
       "      <td>...</td>\n",
       "      <td>...</td>\n",
       "      <td>...</td>\n",
       "      <td>...</td>\n",
       "      <td>...</td>\n",
       "      <td>...</td>\n",
       "      <td>...</td>\n",
       "      <td>...</td>\n",
       "      <td>...</td>\n",
       "    </tr>\n",
       "    <tr>\n",
       "      <th>2914</th>\n",
       "      <td>NaN</td>\n",
       "      <td>3.091042</td>\n",
       "      <td>7.568896</td>\n",
       "      <td>0.000000</td>\n",
       "      <td>0.000000</td>\n",
       "      <td>0.000000</td>\n",
       "      <td>0.000000</td>\n",
       "      <td>7.401842</td>\n",
       "      <td>37</td>\n",
       "      <td>11</td>\n",
       "      <td>...</td>\n",
       "      <td>6</td>\n",
       "      <td>6</td>\n",
       "      <td>1</td>\n",
       "      <td>2</td>\n",
       "      <td>4</td>\n",
       "      <td>1</td>\n",
       "      <td>8</td>\n",
       "      <td>0</td>\n",
       "      <td>8</td>\n",
       "      <td>4</td>\n",
       "    </tr>\n",
       "    <tr>\n",
       "      <th>2915</th>\n",
       "      <td>NaN</td>\n",
       "      <td>3.091042</td>\n",
       "      <td>7.546974</td>\n",
       "      <td>0.000000</td>\n",
       "      <td>5.659482</td>\n",
       "      <td>0.000000</td>\n",
       "      <td>3.218876</td>\n",
       "      <td>7.401842</td>\n",
       "      <td>37</td>\n",
       "      <td>9</td>\n",
       "      <td>...</td>\n",
       "      <td>6</td>\n",
       "      <td>4</td>\n",
       "      <td>3</td>\n",
       "      <td>2</td>\n",
       "      <td>4</td>\n",
       "      <td>1</td>\n",
       "      <td>6</td>\n",
       "      <td>0</td>\n",
       "      <td>8</td>\n",
       "      <td>0</td>\n",
       "    </tr>\n",
       "    <tr>\n",
       "      <th>2916</th>\n",
       "      <td>NaN</td>\n",
       "      <td>5.081404</td>\n",
       "      <td>9.903538</td>\n",
       "      <td>0.000000</td>\n",
       "      <td>6.357842</td>\n",
       "      <td>6.163315</td>\n",
       "      <td>0.000000</td>\n",
       "      <td>7.803435</td>\n",
       "      <td>11</td>\n",
       "      <td>12</td>\n",
       "      <td>...</td>\n",
       "      <td>6</td>\n",
       "      <td>5</td>\n",
       "      <td>3</td>\n",
       "      <td>2</td>\n",
       "      <td>4</td>\n",
       "      <td>1</td>\n",
       "      <td>11</td>\n",
       "      <td>0</td>\n",
       "      <td>8</td>\n",
       "      <td>0</td>\n",
       "    </tr>\n",
       "    <tr>\n",
       "      <th>2917</th>\n",
       "      <td>NaN</td>\n",
       "      <td>4.143135</td>\n",
       "      <td>9.253591</td>\n",
       "      <td>0.000000</td>\n",
       "      <td>0.000000</td>\n",
       "      <td>4.394449</td>\n",
       "      <td>3.496508</td>\n",
       "      <td>7.540622</td>\n",
       "      <td>15</td>\n",
       "      <td>10</td>\n",
       "      <td>...</td>\n",
       "      <td>6</td>\n",
       "      <td>6</td>\n",
       "      <td>1</td>\n",
       "      <td>2</td>\n",
       "      <td>2</td>\n",
       "      <td>3</td>\n",
       "      <td>9</td>\n",
       "      <td>0</td>\n",
       "      <td>8</td>\n",
       "      <td>4</td>\n",
       "    </tr>\n",
       "    <tr>\n",
       "      <th>2918</th>\n",
       "      <td>NaN</td>\n",
       "      <td>4.317488</td>\n",
       "      <td>9.172431</td>\n",
       "      <td>4.553877</td>\n",
       "      <td>6.478510</td>\n",
       "      <td>5.252273</td>\n",
       "      <td>3.891820</td>\n",
       "      <td>8.005367</td>\n",
       "      <td>13</td>\n",
       "      <td>12</td>\n",
       "      <td>...</td>\n",
       "      <td>6</td>\n",
       "      <td>1</td>\n",
       "      <td>0</td>\n",
       "      <td>2</td>\n",
       "      <td>4</td>\n",
       "      <td>1</td>\n",
       "      <td>2</td>\n",
       "      <td>0</td>\n",
       "      <td>8</td>\n",
       "      <td>4</td>\n",
       "    </tr>\n",
       "  </tbody>\n",
       "</table>\n",
       "<p>1459 rows × 58 columns</p>\n",
       "</div>"
      ],
      "text/plain": [
       "      SalePrice  LotFrontage   LotArea  MasVnrArea  GarageArea  WoodDeckSF  \\\n",
       "1460        NaN     4.394449  9.360741    0.000000    6.594413    4.948760   \n",
       "1461        NaN     4.406719  9.565775    4.691348    5.746203    5.976351   \n",
       "1462        NaN     4.317488  9.534668    0.000000    6.180017    5.361292   \n",
       "1463        NaN     4.369448  9.208238    3.044522    6.154858    5.888878   \n",
       "1464        NaN     3.784190  8.518392    0.000000    6.228511    0.000000   \n",
       "...         ...          ...       ...         ...         ...         ...   \n",
       "2914        NaN     3.091042  7.568896    0.000000    0.000000    0.000000   \n",
       "2915        NaN     3.091042  7.546974    0.000000    5.659482    0.000000   \n",
       "2916        NaN     5.081404  9.903538    0.000000    6.357842    6.163315   \n",
       "2917        NaN     4.143135  9.253591    0.000000    0.000000    4.394449   \n",
       "2918        NaN     4.317488  9.172431    4.553877    6.478510    5.252273   \n",
       "\n",
       "      TotalPorchSF   TotalSF  AgeRemodAdd  TotalHomeQuality  ...  Functional  \\\n",
       "1460      4.795791  7.483807           50                11  ...           6   \n",
       "1461      3.610918  7.885705           53                12  ...           6   \n",
       "1462      3.555348  7.846981           13                10  ...           6   \n",
       "1463      3.610918  7.836370           13                12  ...           6   \n",
       "1464      5.424950  7.848153           19                13  ...           6   \n",
       "...            ...       ...          ...               ...  ...         ...   \n",
       "2914      0.000000  7.401842           37                11  ...           6   \n",
       "2915      3.218876  7.401842           37                 9  ...           6   \n",
       "2916      0.000000  7.803435           11                12  ...           6   \n",
       "2917      3.496508  7.540622           15                10  ...           6   \n",
       "2918      3.891820  8.005367           13                12  ...           6   \n",
       "\n",
       "      GarageType  GarageFinish  PavedDrive  Fence  MiscFeature  MoSold  \\\n",
       "1460           1             3           2      2            1       8   \n",
       "1461           1             3           2      4            0       8   \n",
       "1462           1             0           2      2            1       5   \n",
       "1463           1             0           2      4            1       8   \n",
       "1464           1             2           2      4            1       0   \n",
       "...          ...           ...         ...    ...          ...     ...   \n",
       "2914           6             1           2      4            1       8   \n",
       "2915           4             3           2      4            1       6   \n",
       "2916           5             3           2      4            1      11   \n",
       "2917           6             1           2      2            3       9   \n",
       "2918           1             0           2      4            1       2   \n",
       "\n",
       "      YrSold  SaleType  SaleCondition  \n",
       "1460       4         8              4  \n",
       "1461       4         8              4  \n",
       "1462       4         8              4  \n",
       "1463       4         8              4  \n",
       "1464       4         8              4  \n",
       "...      ...       ...            ...  \n",
       "2914       0         8              4  \n",
       "2915       0         8              0  \n",
       "2916       0         8              0  \n",
       "2917       0         8              4  \n",
       "2918       0         8              4  \n",
       "\n",
       "[1459 rows x 58 columns]"
      ]
     },
     "execution_count": 3,
     "metadata": {},
     "output_type": "execute_result"
    }
   ],
   "source": [
    "data_test"
   ]
  },
  {
   "cell_type": "code",
   "execution_count": 4,
   "metadata": {},
   "outputs": [
    {
     "name": "stdout",
     "output_type": "stream",
     "text": [
      "Index(['SalePrice', 'LotFrontage', 'LotArea', 'MasVnrArea', 'GarageArea',\n",
      "       'WoodDeckSF', 'TotalPorchSF', 'TotalSF', 'AgeRemodAdd',\n",
      "       'TotalHomeQuality', 'TotalExterQuality', 'TotalBsmtQuality',\n",
      "       'HeatingQC', 'FireplaceQu', 'TotalGarageQuality', 'PoolQC',\n",
      "       'Fireplaces', 'TotalBathrooms', 'KitchenAbvGr', 'BedroomAbvGr',\n",
      "       'Bsmt_Unf_share', 'low_qual_share',\n",
      "       'TotRmsAbvGrd_withoutbedroomskitchen', 'MSSubClass', 'MSZoning',\n",
      "       'Street', 'Alley', 'LotShape', 'LandContour', 'Utilities', 'LotConfig',\n",
      "       'LandSlope', 'Neighborhood', 'Condition1', 'Condition2', 'BldgType',\n",
      "       'RoofStyle', 'RoofMatl', 'Exterior1st', 'MasVnrType', 'Foundation',\n",
      "       'BsmtExposure', 'BsmtFinType1', 'BsmtFinType2', 'Heating', 'CentralAir',\n",
      "       'Electrical', 'KitchenQual', 'Functional', 'GarageType', 'GarageFinish',\n",
      "       'PavedDrive', 'Fence', 'MiscFeature', 'MoSold', 'YrSold', 'SaleType',\n",
      "       'SaleCondition'],\n",
      "      dtype='object')\n",
      "Index(['LotFrontage', 'LotArea', 'MasVnrArea', 'GarageArea', 'WoodDeckSF',\n",
      "       'TotalPorchSF', 'TotalSF', 'AgeRemodAdd', 'TotalHomeQuality',\n",
      "       'TotalExterQuality', 'TotalBsmtQuality', 'HeatingQC', 'FireplaceQu',\n",
      "       'TotalGarageQuality', 'PoolQC', 'Fireplaces', 'TotalBathrooms',\n",
      "       'KitchenAbvGr', 'BedroomAbvGr', 'Bsmt_Unf_share', 'low_qual_share',\n",
      "       'TotRmsAbvGrd_withoutbedroomskitchen'],\n",
      "      dtype='object')\n"
     ]
    }
   ],
   "source": [
    "y_train=data_train[data_train.columns[0]].values\n",
    "\n",
    "print(data_train.columns)\n",
    "\n",
    "X_train = data_train[data_train.columns[1:23]].values\n",
    "X_test = data_test[data_test.columns[1:23]].values\n",
    "print(data_train[data_train.columns[1:23]].columns)"
   ]
  },
  {
   "cell_type": "markdown",
   "metadata": {},
   "source": [
    "Concatenate numerical variables with dummy variables"
   ]
  },
  {
   "cell_type": "code",
   "execution_count": 5,
   "metadata": {},
   "outputs": [],
   "source": [
    "X_train =np.concatenate((X_train,X_dummy_train),axis=1)\n",
    "X_test =np.concatenate((X_test,X_dummy_test),axis=1)"
   ]
  },
  {
   "cell_type": "markdown",
   "metadata": {},
   "source": [
    "Using Neighborhood for the stratification of the train_test_split seems good option"
   ]
  },
  {
   "cell_type": "code",
   "execution_count": 6,
   "metadata": {},
   "outputs": [],
   "source": [
    "strata = data_train['Neighborhood'].values\n",
    "\n",
    "from sklearn import model_selection\n",
    "\n",
    "X_train_train, X_train_validation, y_train_train, y_train_validation = model_selection.train_test_split(X_train, y_train, test_size=0.25,stratify=strata, random_state=42 ) "
   ]
  },
  {
   "cell_type": "markdown",
   "metadata": {},
   "source": [
    "Reduce and center the data"
   ]
  },
  {
   "cell_type": "code",
   "execution_count": 7,
   "metadata": {},
   "outputs": [],
   "source": [
    "from sklearn import preprocessing\n",
    "std_scale = preprocessing.StandardScaler().fit(X_train_train[:,0:15])\n",
    "X_train_train_std = std_scale.transform(X_train_train[:,0:15])\n",
    "X_train_validation_std = std_scale.transform(X_train_validation[:,0:15])\n",
    "X_test_std = std_scale.transform(X_test[:,0:15])\n",
    "\n",
    "X_train_train_std=np.concatenate((X_train_train_std,X_train_train[:,15:]),axis=1)\n",
    "X_train_validation_std=np.concatenate((X_train_validation_std,X_train_validation[:,15:]),axis=1)\n",
    "X_test_std=np.concatenate((X_test_std,X_test[:,15:]),axis=1)"
   ]
  },
  {
   "cell_type": "markdown",
   "metadata": {},
   "source": [
    "Creation of Fold"
   ]
  },
  {
   "cell_type": "code",
   "execution_count": 8,
   "metadata": {},
   "outputs": [],
   "source": [
    "\n",
    "from sklearn import model_selection\n",
    "# define model evaluation method\n",
    "cv = model_selection.RepeatedKFold(n_splits=5,random_state=42 )"
   ]
  },
  {
   "cell_type": "markdown",
   "metadata": {},
   "source": [
    "Ridge Regression "
   ]
  },
  {
   "cell_type": "code",
   "execution_count": 9,
   "metadata": {
    "scrolled": false
   },
   "outputs": [
    {
     "name": "stdout",
     "output_type": "stream",
     "text": [
      "neg RMSE d'une regression ridge avec cv (apprentissage): -0.1309\n",
      "RMSE d'une regression ridge avec cv (généralisation): 0.1346\n"
     ]
    },
    {
     "data": {
      "text/plain": [
       "Text(0.5, 0, 'Truths')"
      ]
     },
     "execution_count": 9,
     "metadata": {},
     "output_type": "execute_result"
    },
    {
     "data": {
      "image/png": "[encoded data removed]",
      "text/plain": [
       "<Figure size 360x360 with 1 Axes>"
      ]
     },
     "metadata": {
      "needs_background": "light"
     },
     "output_type": "display_data"
    }
   ],
   "source": [
    "from sklearn import linear_model\n",
    "from sklearn import metrics\n",
    "n_alphas = 200\n",
    "alphas = np.logspace(-5, 5, n_alphas)\n",
    "\n",
    "score = 'neg_root_mean_squared_error'\n",
    "param_grid={ 'alpha': alphas }\n",
    "ridge = linear_model.Ridge()\n",
    "grid_pred = model_selection.GridSearchCV(\n",
    "        ridge,\n",
    "        param_grid,\n",
    "        cv=cv,\n",
    "        scoring=score)\n",
    "grid_pred.fit(X_train_train_std, y_train_train)\n",
    "print('''neg RMSE d'une regression ridge avec cv (apprentissage): {:.4f}'''.format(grid_pred.best_score_))\n",
    "y_train_validation_pred_cv = grid_pred.predict(X_train_validation_std)\n",
    "rmse_cv = np.sqrt(metrics.mean_squared_error(y_train_validation, y_train_validation_pred_cv))\n",
    "print('''RMSE d'une regression ridge avec cv (généralisation): {:.4f}'''.format(rmse_cv))\n",
    "\n",
    "fig, ax = plt.subplots(figsize=(5, 5))\n",
    "plt.scatter(y_train_validation, y_train_validation_pred_cv)\n",
    "p1 = max(max(y_train_validation_pred_cv), max(y_train_validation))\n",
    "p2 = min(min(y_train_validation_pred_cv), min(y_train_validation))\n",
    "plt.plot([p1, p2], [p1, p2], '--',c='red')\n",
    "ax.axes.axis('equal')\n",
    "plt.title('Ridge model, {}'.format(grid_pred.best_estimator_))\n",
    "plt.ylabel('Model predictions')\n",
    "plt.xlabel('Truths')"
   ]
  },
  {
   "cell_type": "code",
   "execution_count": 10,
   "metadata": {},
   "outputs": [
    {
     "name": "stdout",
     "output_type": "stream",
     "text": [
      "{'alpha': 7.57525025877192}\n"
     ]
    }
   ],
   "source": [
    "print(grid_pred.best_params_)"
   ]
  },
  {
   "cell_type": "code",
   "execution_count": 11,
   "metadata": {},
   "outputs": [],
   "source": [
    "r2_cv = metrics.r2_score(y_train_validation, y_train_validation_pred_cv)"
   ]
  },
  {
   "cell_type": "code",
   "execution_count": 12,
   "metadata": {
    "scrolled": true
   },
   "outputs": [
    {
     "name": "stdout",
     "output_type": "stream",
     "text": [
      "r² d'une regression ridge avec cv (généralisation): 0.8815\n"
     ]
    }
   ],
   "source": [
    "print('''r² d'une regression ridge avec cv (généralisation): {:.4f}'''.format(r2_cv))"
   ]
  },
  {
   "cell_type": "code",
   "execution_count": 13,
   "metadata": {},
   "outputs": [],
   "source": [
    "alpha=grid_pred.best_params_['alpha']\n"
   ]
  },
  {
   "cell_type": "code",
   "execution_count": 14,
   "metadata": {},
   "outputs": [
    {
     "data": {
      "text/plain": [
       "Ridge(alpha=7.57525025877192)"
      ]
     },
     "execution_count": 14,
     "metadata": {},
     "output_type": "execute_result"
    }
   ],
   "source": [
    "ridge = linear_model.Ridge()\n",
    "ridge.set_params(alpha=alpha)\n",
    "ridge.fit(X_train_train_std, y_train_train)\n"
   ]
  },
  {
   "cell_type": "code",
   "execution_count": 15,
   "metadata": {},
   "outputs": [],
   "source": [
    "ridge_coef=pd.DataFrame(ridge.coef_[0:22],index=data_train.columns[1:23], columns=[\"param\"])"
   ]
  },
  {
   "cell_type": "code",
   "execution_count": 16,
   "metadata": {
    "scrolled": true
   },
   "outputs": [
    {
     "data": {
      "text/html": [
       "<div>\n",
       "<style scoped>\n",
       "    .dataframe tbody tr th:only-of-type {\n",
       "        vertical-align: middle;\n",
       "    }\n",
       "\n",
       "    .dataframe tbody tr th {\n",
       "        vertical-align: top;\n",
       "    }\n",
       "\n",
       "    .dataframe thead th {\n",
       "        text-align: right;\n",
       "    }\n",
       "</style>\n",
       "<table border=\"1\" class=\"dataframe\">\n",
       "  <thead>\n",
       "    <tr style=\"text-align: right;\">\n",
       "      <th></th>\n",
       "      <th>param</th>\n",
       "    </tr>\n",
       "  </thead>\n",
       "  <tbody>\n",
       "    <tr>\n",
       "      <th>LotFrontage</th>\n",
       "      <td>0.019584</td>\n",
       "    </tr>\n",
       "    <tr>\n",
       "      <th>LotArea</th>\n",
       "      <td>0.039258</td>\n",
       "    </tr>\n",
       "    <tr>\n",
       "      <th>MasVnrArea</th>\n",
       "      <td>0.007943</td>\n",
       "    </tr>\n",
       "    <tr>\n",
       "      <th>GarageArea</th>\n",
       "      <td>0.042866</td>\n",
       "    </tr>\n",
       "    <tr>\n",
       "      <th>WoodDeckSF</th>\n",
       "      <td>0.009800</td>\n",
       "    </tr>\n",
       "    <tr>\n",
       "      <th>TotalPorchSF</th>\n",
       "      <td>0.006446</td>\n",
       "    </tr>\n",
       "    <tr>\n",
       "      <th>TotalSF</th>\n",
       "      <td>0.138006</td>\n",
       "    </tr>\n",
       "    <tr>\n",
       "      <th>AgeRemodAdd</th>\n",
       "      <td>-0.019185</td>\n",
       "    </tr>\n",
       "    <tr>\n",
       "      <th>TotalHomeQuality</th>\n",
       "      <td>0.071459</td>\n",
       "    </tr>\n",
       "    <tr>\n",
       "      <th>TotalExterQuality</th>\n",
       "      <td>0.006857</td>\n",
       "    </tr>\n",
       "    <tr>\n",
       "      <th>TotalBsmtQuality</th>\n",
       "      <td>0.017882</td>\n",
       "    </tr>\n",
       "    <tr>\n",
       "      <th>HeatingQC</th>\n",
       "      <td>0.008048</td>\n",
       "    </tr>\n",
       "    <tr>\n",
       "      <th>FireplaceQu</th>\n",
       "      <td>0.017743</td>\n",
       "    </tr>\n",
       "    <tr>\n",
       "      <th>TotalGarageQuality</th>\n",
       "      <td>0.002769</td>\n",
       "    </tr>\n",
       "    <tr>\n",
       "      <th>PoolQC</th>\n",
       "      <td>-0.001766</td>\n",
       "    </tr>\n",
       "    <tr>\n",
       "      <th>Fireplaces</th>\n",
       "      <td>0.007418</td>\n",
       "    </tr>\n",
       "    <tr>\n",
       "      <th>TotalBathrooms</th>\n",
       "      <td>0.039587</td>\n",
       "    </tr>\n",
       "    <tr>\n",
       "      <th>KitchenAbvGr</th>\n",
       "      <td>-0.042193</td>\n",
       "    </tr>\n",
       "    <tr>\n",
       "      <th>BedroomAbvGr</th>\n",
       "      <td>0.011418</td>\n",
       "    </tr>\n",
       "    <tr>\n",
       "      <th>Bsmt_Unf_share</th>\n",
       "      <td>-0.085607</td>\n",
       "    </tr>\n",
       "    <tr>\n",
       "      <th>low_qual_share</th>\n",
       "      <td>-0.013896</td>\n",
       "    </tr>\n",
       "    <tr>\n",
       "      <th>TotRmsAbvGrd_withoutbedroomskitchen</th>\n",
       "      <td>0.010047</td>\n",
       "    </tr>\n",
       "  </tbody>\n",
       "</table>\n",
       "</div>"
      ],
      "text/plain": [
       "                                        param\n",
       "LotFrontage                          0.019584\n",
       "LotArea                              0.039258\n",
       "MasVnrArea                           0.007943\n",
       "GarageArea                           0.042866\n",
       "WoodDeckSF                           0.009800\n",
       "TotalPorchSF                         0.006446\n",
       "TotalSF                              0.138006\n",
       "AgeRemodAdd                         -0.019185\n",
       "TotalHomeQuality                     0.071459\n",
       "TotalExterQuality                    0.006857\n",
       "TotalBsmtQuality                     0.017882\n",
       "HeatingQC                            0.008048\n",
       "FireplaceQu                          0.017743\n",
       "TotalGarageQuality                   0.002769\n",
       "PoolQC                              -0.001766\n",
       "Fireplaces                           0.007418\n",
       "TotalBathrooms                       0.039587\n",
       "KitchenAbvGr                        -0.042193\n",
       "BedroomAbvGr                         0.011418\n",
       "Bsmt_Unf_share                      -0.085607\n",
       "low_qual_share                      -0.013896\n",
       "TotRmsAbvGrd_withoutbedroomskitchen  0.010047"
      ]
     },
     "execution_count": 16,
     "metadata": {},
     "output_type": "execute_result"
    }
   ],
   "source": [
    "ridge_coef"
   ]
  },
  {
   "cell_type": "code",
   "execution_count": 17,
   "metadata": {},
   "outputs": [],
   "source": [
    "ridge_coef=ridge_coef.sort_values(by = 'param',ascending = False)"
   ]
  },
  {
   "cell_type": "code",
   "execution_count": 18,
   "metadata": {},
   "outputs": [
    {
     "data": {
      "image/png": "[encoded data removed]",
      "text/plain": [
       "<Figure size 864x648 with 1 Axes>"
      ]
     },
     "metadata": {
      "needs_background": "light"
     },
     "output_type": "display_data"
    }
   ],
   "source": [
    "fig,axes=plt.subplots(1,1,figsize=(12,9))\n",
    "sns.barplot(y=ridge_coef['param'],x=ridge_coef.index,palette='Spectral')\n",
    "plt.title('ridge coefficient by numerical features',size=20,color='black',y=1.03)\n",
    "plt.xticks(rotation=90)\n",
    "for p in axes.patches:\n",
    "            value = p.get_height()\n",
    "            if value <=.5:\n",
    "                continue\n",
    "            x = p.get_x() + p.get_width()-.9\n",
    "            y = p.get_y() + p.get_height()+(.02*value)\n",
    "            axes.text(x, y, str(value)[1:5], ha=\"left\",fontsize=12,color='#000000')\n",
    "plt.tight_layout();"
   ]
  },
  {
   "cell_type": "code",
   "execution_count": 19,
   "metadata": {},
   "outputs": [],
   "source": [
    "ridge_coef.to_csv(os.path.join(path_to_data,'ridge_coef_regression_prediction.csv'),index = True, header=True)"
   ]
  },
  {
   "cell_type": "code",
   "execution_count": 20,
   "metadata": {},
   "outputs": [],
   "source": [
    "y_test = grid_pred.predict(X_test_std)"
   ]
  },
  {
   "cell_type": "code",
   "execution_count": 21,
   "metadata": {},
   "outputs": [
    {
     "name": "stdout",
     "output_type": "stream",
     "text": [
      "[11.71225926 11.9658709  12.13468494 ... 12.12791944 11.72264339\n",
      " 12.27436418]\n"
     ]
    }
   ],
   "source": [
    "print(y_test)"
   ]
  },
  {
   "cell_type": "code",
   "execution_count": 22,
   "metadata": {},
   "outputs": [],
   "source": [
    "data_y_predict=pd.DataFrame(y_test,index=data_test.index,columns=[\"log_SalePrice\"])"
   ]
  },
  {
   "cell_type": "code",
   "execution_count": 23,
   "metadata": {},
   "outputs": [
    {
     "data": {
      "text/html": [
       "<div>\n",
       "<style scoped>\n",
       "    .dataframe tbody tr th:only-of-type {\n",
       "        vertical-align: middle;\n",
       "    }\n",
       "\n",
       "    .dataframe tbody tr th {\n",
       "        vertical-align: top;\n",
       "    }\n",
       "\n",
       "    .dataframe thead th {\n",
       "        text-align: right;\n",
       "    }\n",
       "</style>\n",
       "<table border=\"1\" class=\"dataframe\">\n",
       "  <thead>\n",
       "    <tr style=\"text-align: right;\">\n",
       "      <th></th>\n",
       "      <th>log_SalePrice</th>\n",
       "    </tr>\n",
       "  </thead>\n",
       "  <tbody>\n",
       "    <tr>\n",
       "      <th>1460</th>\n",
       "      <td>11.712259</td>\n",
       "    </tr>\n",
       "    <tr>\n",
       "      <th>1461</th>\n",
       "      <td>11.965871</td>\n",
       "    </tr>\n",
       "    <tr>\n",
       "      <th>1462</th>\n",
       "      <td>12.134685</td>\n",
       "    </tr>\n",
       "    <tr>\n",
       "      <th>1463</th>\n",
       "      <td>12.203995</td>\n",
       "    </tr>\n",
       "    <tr>\n",
       "      <th>1464</th>\n",
       "      <td>12.116884</td>\n",
       "    </tr>\n",
       "    <tr>\n",
       "      <th>...</th>\n",
       "      <td>...</td>\n",
       "    </tr>\n",
       "    <tr>\n",
       "      <th>2914</th>\n",
       "      <td>11.329487</td>\n",
       "    </tr>\n",
       "    <tr>\n",
       "      <th>2915</th>\n",
       "      <td>11.306028</td>\n",
       "    </tr>\n",
       "    <tr>\n",
       "      <th>2916</th>\n",
       "      <td>12.127919</td>\n",
       "    </tr>\n",
       "    <tr>\n",
       "      <th>2917</th>\n",
       "      <td>11.722643</td>\n",
       "    </tr>\n",
       "    <tr>\n",
       "      <th>2918</th>\n",
       "      <td>12.274364</td>\n",
       "    </tr>\n",
       "  </tbody>\n",
       "</table>\n",
       "<p>1459 rows × 1 columns</p>\n",
       "</div>"
      ],
      "text/plain": [
       "      log_SalePrice\n",
       "1460      11.712259\n",
       "1461      11.965871\n",
       "1462      12.134685\n",
       "1463      12.203995\n",
       "1464      12.116884\n",
       "...             ...\n",
       "2914      11.329487\n",
       "2915      11.306028\n",
       "2916      12.127919\n",
       "2917      11.722643\n",
       "2918      12.274364\n",
       "\n",
       "[1459 rows x 1 columns]"
      ]
     },
     "execution_count": 23,
     "metadata": {},
     "output_type": "execute_result"
    }
   ],
   "source": [
    "data_y_predict"
   ]
  },
  {
   "cell_type": "code",
   "execution_count": 24,
   "metadata": {},
   "outputs": [],
   "source": [
    "data_y_predict['SalePrice']=np.expm1(data_y_predict['log_SalePrice'])"
   ]
  },
  {
   "cell_type": "code",
   "execution_count": 25,
   "metadata": {},
   "outputs": [],
   "source": [
    "data_y_predict['id']=data_y_predict.index"
   ]
  },
  {
   "cell_type": "code",
   "execution_count": 26,
   "metadata": {},
   "outputs": [],
   "source": [
    "data_y_predict['id']=data_y_predict['id']+1"
   ]
  },
  {
   "cell_type": "code",
   "execution_count": 27,
   "metadata": {},
   "outputs": [],
   "source": [
    "data_y_predict=data_y_predict[['id','SalePrice']]"
   ]
  },
  {
   "cell_type": "code",
   "execution_count": 28,
   "metadata": {},
   "outputs": [
    {
     "data": {
      "text/html": [
       "<div>\n",
       "<style scoped>\n",
       "    .dataframe tbody tr th:only-of-type {\n",
       "        vertical-align: middle;\n",
       "    }\n",
       "\n",
       "    .dataframe tbody tr th {\n",
       "        vertical-align: top;\n",
       "    }\n",
       "\n",
       "    .dataframe thead th {\n",
       "        text-align: right;\n",
       "    }\n",
       "</style>\n",
       "<table border=\"1\" class=\"dataframe\">\n",
       "  <thead>\n",
       "    <tr style=\"text-align: right;\">\n",
       "      <th></th>\n",
       "      <th>id</th>\n",
       "      <th>SalePrice</th>\n",
       "    </tr>\n",
       "  </thead>\n",
       "  <tbody>\n",
       "    <tr>\n",
       "      <th>1460</th>\n",
       "      <td>1461</td>\n",
       "      <td>122057.932659</td>\n",
       "    </tr>\n",
       "    <tr>\n",
       "      <th>1461</th>\n",
       "      <td>1462</td>\n",
       "      <td>157292.835436</td>\n",
       "    </tr>\n",
       "    <tr>\n",
       "      <th>1462</th>\n",
       "      <td>1463</td>\n",
       "      <td>186219.166057</td>\n",
       "    </tr>\n",
       "    <tr>\n",
       "      <th>1463</th>\n",
       "      <td>1464</td>\n",
       "      <td>199583.931827</td>\n",
       "    </tr>\n",
       "    <tr>\n",
       "      <th>1464</th>\n",
       "      <td>1465</td>\n",
       "      <td>182933.536380</td>\n",
       "    </tr>\n",
       "    <tr>\n",
       "      <th>...</th>\n",
       "      <td>...</td>\n",
       "      <td>...</td>\n",
       "    </tr>\n",
       "    <tr>\n",
       "      <th>2914</th>\n",
       "      <td>2915</td>\n",
       "      <td>83239.319396</td>\n",
       "    </tr>\n",
       "    <tr>\n",
       "      <th>2915</th>\n",
       "      <td>2916</td>\n",
       "      <td>81309.339232</td>\n",
       "    </tr>\n",
       "    <tr>\n",
       "      <th>2916</th>\n",
       "      <td>2917</td>\n",
       "      <td>184963.545063</td>\n",
       "    </tr>\n",
       "    <tr>\n",
       "      <th>2917</th>\n",
       "      <td>2918</td>\n",
       "      <td>123332.011903</td>\n",
       "    </tr>\n",
       "    <tr>\n",
       "      <th>2918</th>\n",
       "      <td>2919</td>\n",
       "      <td>214134.480502</td>\n",
       "    </tr>\n",
       "  </tbody>\n",
       "</table>\n",
       "<p>1459 rows × 2 columns</p>\n",
       "</div>"
      ],
      "text/plain": [
       "        id      SalePrice\n",
       "1460  1461  122057.932659\n",
       "1461  1462  157292.835436\n",
       "1462  1463  186219.166057\n",
       "1463  1464  199583.931827\n",
       "1464  1465  182933.536380\n",
       "...    ...            ...\n",
       "2914  2915   83239.319396\n",
       "2915  2916   81309.339232\n",
       "2916  2917  184963.545063\n",
       "2917  2918  123332.011903\n",
       "2918  2919  214134.480502\n",
       "\n",
       "[1459 rows x 2 columns]"
      ]
     },
     "execution_count": 28,
     "metadata": {},
     "output_type": "execute_result"
    }
   ],
   "source": [
    "data_y_predict"
   ]
  },
  {
   "cell_type": "code",
   "execution_count": 29,
   "metadata": {},
   "outputs": [],
   "source": [
    "data_y_predict.to_csv(os.path.join(path_to_data,'ridge_regression_prediction.csv'),index = False, header=True)"
   ]
  },
  {
   "cell_type": "code",
   "execution_count": null,
   "metadata": {},
   "outputs": [],
   "source": []
  }
 ],
 "metadata": {
  "kernelspec": {
   "display_name": "Python 3",
   "language": "python",
   "name": "python3"
  },
  "language_info": {
   "codemirror_mode": {
    "name": "ipython",
    "version": 3
   },
   "file_extension": ".py",
   "mimetype": "text/x-python",
   "name": "python",
   "nbconvert_exporter": "python",
   "pygments_lexer": "ipython3",
   "version": "3.8.5"
  }
 },
 "nbformat": 4,
 "nbformat_minor": 4
}
